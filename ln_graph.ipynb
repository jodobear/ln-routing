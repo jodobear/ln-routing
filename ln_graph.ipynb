{
 "cells": [
  {
   "cell_type": "code",
   "execution_count": 1,
   "metadata": {
    "colab": {
     "base_uri": "https://localhost:8080/",
     "height": 425
    },
    "colab_type": "code",
    "id": "iIL7oRvCXF0d",
    "outputId": "bf30e94d-d74c-4783-a1cb-8ece057fe84a",
    "scrolled": true,
    "slideshow": {
     "slide_type": "skip"
    }
   },
   "outputs": [
    {
     "name": "stdout",
     "output_type": "stream",
     "text": [
      "--------------------------------------\n",
      "--------------------------------------\n",
      "Contents of repo: \n",
      "data  ln_graph.ipynb  README.md  res\n",
      "--------------------------------------\n",
      "Contents of data dir: \n",
      "channels-2020_03_04_02_36_56.csv  nodes-2020_03_04_02_36_56.csv\n",
      "--------------------------------------\n",
      "Contents of res dir: \n",
      "ln-20-06-04.png  ln-graph.png  ln-routing.jpeg\n"
     ]
    }
   ],
   "source": [
    "# !rm -rf ln-routing\n",
    "# !git clone https://github.com/jodobear/ln-routing.git\n",
    "print('--------------------------------------')\n",
    "# !rm -rf harbour-space-text-mining-course\n",
    "# !git clone https://github.com/horoshenkih/harbour-space-text-mining-course.git\n",
    "import sys\n",
    "sys.path.append('harbour-space-text-mining-course')\n",
    "\n",
    "from tmcourse.node2vec import Node2VecGraph\n",
    "\n",
    "# !python3 -m pip install -U gensim\n",
    "\n",
    "print('--------------------------------------')\n",
    "print(\"Contents of repo: \")\n",
    "!ls ln-routing/\n",
    "print('--------------------------------------')\n",
    "print(\"Contents of data dir: \")\n",
    "!ls ln-routing/data\n",
    "print('--------------------------------------')\n",
    "print(\"Contents of res dir: \")\n",
    "!ls ln-routing/res"
   ]
  },
  {
   "cell_type": "code",
   "execution_count": 2,
   "metadata": {
    "slideshow": {
     "slide_type": "skip"
    }
   },
   "outputs": [],
   "source": [
    "def hide_code_in_slideshow():   \n",
    "    from IPython import display\n",
    "    import binascii\n",
    "    import os\n",
    "    uid = binascii.hexlify(os.urandom(8)).decode()    \n",
    "    html = \"\"\"<div id=\"%s\"></div>\n",
    "    <script type=\"text/javascript\">\n",
    "        $(function(){\n",
    "            var p = $(\"#%s\");\n",
    "            if (p.length==0) return;\n",
    "            while (!p.hasClass(\"cell\")) {\n",
    "                p=p.parent();\n",
    "                if (p.prop(\"tagName\") ==\"body\") return;\n",
    "            }\n",
    "            var cell = p;\n",
    "            cell.find(\".input\").addClass(\"hide-in-slideshow\")\n",
    "        });\n",
    "    </script>\"\"\" % (uid, uid)\n",
    "    display.display_html(html, raw=True)"
   ]
  },
  {
   "cell_type": "markdown",
   "metadata": {
    "colab_type": "text",
    "id": "BJzETL4OXLdp",
    "slideshow": {
     "slide_type": "slide"
    }
   },
   "source": [
    "<!--@slideshow slide-->\n",
    "# Exploring Routing in Lightning Network\n",
    "\n",
    "Lightning Network(LN) is a second layer payment and authentication protocol on top of the Bitcoin protocol.\n",
    "\n",
    "![ln-snapshot-20-06-04](https://raw.githubusercontent.com/jodobear/ln-routing/master/res/ln-20-06-04.png)\n",
    "\n",
    "\n"
   ]
  },
  {
   "cell_type": "markdown",
   "metadata": {
    "colab_type": "text",
    "id": "K3dqrcLC0Dhx",
    "slideshow": {
     "slide_type": "subslide"
    }
   },
   "source": [
    "<!--@slideshow slide-->\n",
    "## Payment Mechanism\n",
    "\n",
    "Payments on the LN are routed through channels between participating nodes. Each node can route payments if it has a channel to other node and it isn't necessary to have a direct channel between them if there exists a route between the two nodes.\n",
    "\n",
    "![ln-routing](https://raw.githubusercontent.com/jodobear/ln-routing/master/res/ln-routing.jpeg)\n"
   ]
  },
  {
   "cell_type": "markdown",
   "metadata": {
    "colab_type": "text",
    "id": "yG2rwsomoYXt",
    "slideshow": {
     "slide_type": "subslide"
    }
   },
   "source": [
    "<!--@slideshow slide-->\n",
    "## LN Routing Problems\n",
    "\n",
    "1. Shortest Path Problem — What’s the shortest (cost-wise) path between any two nodes in a graph?\n",
    "\n",
    "2. Network Flow — Does the directed path have enough capacity to carry the “flow” it receives at each node along the way?\n",
    "\n",
    "3. Matching Problem — Does a graph contain a pair or more of matching independent edge sets?\n",
    "\n",
    "4. Critical Path Analysis — In a system of interdependent activities, which is the longest path of a dependent nature?\n"
   ]
  },
  {
   "cell_type": "markdown",
   "metadata": {
    "colab_type": "text",
    "id": "r3gSQOztKrCV",
    "slideshow": {
     "slide_type": "subslide"
    }
   },
   "source": [
    "<!--@slideshow slide-->\n",
    "# Exploring the Shortest Path Problem\n",
    "\n",
    "The Network is a directed graph with nodes and channels as edges between nodes.\n",
    "\n",
    "In this project I am trying to find the shortest path (distance-wise) between a pair of nodes, if it exists.\n",
    "\n",
    "\n",
    "![ln-graph](https://raw.githubusercontent.com/jodobear/ln-routing/master/res/ln-graph.png)\n",
    "\n"
   ]
  },
  {
   "cell_type": "markdown",
   "metadata": {
    "colab_type": "text",
    "id": "aLr2clcm2Z6V",
    "slideshow": {
     "slide_type": "slide"
    }
   },
   "source": [
    "<!--@slideshow slide-->\n",
    "## Steps\n",
    "\n",
    "1. Preprocess the data, fillna, add weight to make it work with Word2Vec.\n",
    "\n",
    "2. Create a Directed Graph with Networkx.\n",
    "\n",
    "3. Convert it to a Node2Vec graph and get all the walks in the graph.\n",
    "\n",
    "4. Train Word2Vec model to build vocabulary(nodes list/words) and get vectors for all the walks(paths/sentences).\n",
    "\n",
    "5. Compare greedy algorithm implementation vs Networkx shortest path algorithm and analyse the differences."
   ]
  },
  {
   "cell_type": "code",
   "execution_count": 3,
   "metadata": {
    "colab": {},
    "colab_type": "code",
    "id": "GPbuTGgHzURk",
    "slideshow": {
     "slide_type": "skip"
    }
   },
   "outputs": [],
   "source": [
    "import sys\n",
    "sys.path.append('ln-routing')\n",
    "\n",
    "import warnings\n",
    "warnings.filterwarnings('ignore')\n",
    "\n",
    "import numpy as np\n",
    "import pandas as pd\n",
    "import matplotlib as mpl\n",
    "import matplotlib.pyplot as plt\n",
    "import networkx as nx\n",
    "\n",
    "from pprint import pprint\n",
    "from tqdm.notebook import tqdm\n",
    "\n",
    "nodes_df = pd.read_csv('ln-routing/data/nodes-2020_03_04_02_36_56.csv')\n",
    "channels_df = pd.read_csv('ln-routing/data/channels-2020_03_04_02_36_56.csv')"
   ]
  },
  {
   "cell_type": "markdown",
   "metadata": {
    "slideshow": {
     "slide_type": "slide"
    }
   },
   "source": [
    "## Looking At The Data"
   ]
  },
  {
   "cell_type": "code",
   "execution_count": 4,
   "metadata": {
    "colab": {
     "base_uri": "https://localhost:8080/",
     "height": 224
    },
    "colab_type": "code",
    "id": "uH1xu--8rO13",
    "outputId": "907fc533-f6e0-4c3a-add4-6f16a062c368",
    "slideshow": {
     "slide_type": "subslide"
    }
   },
   "outputs": [
    {
     "data": {
      "text/html": [
       "<div>\n",
       "<style scoped>\n",
       "    .dataframe tbody tr th:only-of-type {\n",
       "        vertical-align: middle;\n",
       "    }\n",
       "\n",
       "    .dataframe tbody tr th {\n",
       "        vertical-align: top;\n",
       "    }\n",
       "\n",
       "    .dataframe thead th {\n",
       "        text-align: right;\n",
       "    }\n",
       "</style>\n",
       "<table border=\"1\" class=\"dataframe\">\n",
       "  <thead>\n",
       "    <tr style=\"text-align: right;\">\n",
       "      <th></th>\n",
       "      <th>id</th>\n",
       "      <th>source</th>\n",
       "      <th>target</th>\n",
       "      <th>weight</th>\n",
       "    </tr>\n",
       "  </thead>\n",
       "  <tbody>\n",
       "    <tr>\n",
       "      <th>0</th>\n",
       "      <td>571965x561x1</td>\n",
       "      <td>0288e60c31a434d81e8397231b05229d298bb55885203f...</td>\n",
       "      <td>02d419c9af624d0e7a7c90a60b9ffa35f4934973a9d7d3...</td>\n",
       "      <td>1</td>\n",
       "    </tr>\n",
       "    <tr>\n",
       "      <th>1</th>\n",
       "      <td>581757x2079x1</td>\n",
       "      <td>021d7477153209bf1c81060483b4c2519bde173a18cbb3...</td>\n",
       "      <td>03620f31cf2bb95bb70c8c7bcdaa0698cd9bc7f1798729...</td>\n",
       "      <td>1</td>\n",
       "    </tr>\n",
       "    <tr>\n",
       "      <th>2</th>\n",
       "      <td>549464x2147x0</td>\n",
       "      <td>03205b045b0126c0d3fb826a38b9befc4babf516895449...</td>\n",
       "      <td>03e50492eab4107a773141bb419e107bda3de3d55652e6...</td>\n",
       "      <td>1</td>\n",
       "    </tr>\n",
       "    <tr>\n",
       "      <th>3</th>\n",
       "      <td>575046x2453x1</td>\n",
       "      <td>0230d70b0506aa447a1db407cc04e41448ab92bbd373f5...</td>\n",
       "      <td>0324957a5ab4f045fc02a492eb7a3ff375a4bcec059a6a...</td>\n",
       "      <td>1</td>\n",
       "    </tr>\n",
       "    <tr>\n",
       "      <th>4</th>\n",
       "      <td>614549x1353x0</td>\n",
       "      <td>022c10817fd76e01c63198967a77e3a2ac1d051267d809...</td>\n",
       "      <td>0282c03304843150091acd28fbbd2341d73571004ecd48...</td>\n",
       "      <td>1</td>\n",
       "    </tr>\n",
       "  </tbody>\n",
       "</table>\n",
       "</div>"
      ],
      "text/plain": [
       "              id                                             source  \\\n",
       "0   571965x561x1  0288e60c31a434d81e8397231b05229d298bb55885203f...   \n",
       "1  581757x2079x1  021d7477153209bf1c81060483b4c2519bde173a18cbb3...   \n",
       "2  549464x2147x0  03205b045b0126c0d3fb826a38b9befc4babf516895449...   \n",
       "3  575046x2453x1  0230d70b0506aa447a1db407cc04e41448ab92bbd373f5...   \n",
       "4  614549x1353x0  022c10817fd76e01c63198967a77e3a2ac1d051267d809...   \n",
       "\n",
       "                                              target  weight  \n",
       "0  02d419c9af624d0e7a7c90a60b9ffa35f4934973a9d7d3...       1  \n",
       "1  03620f31cf2bb95bb70c8c7bcdaa0698cd9bc7f1798729...       1  \n",
       "2  03e50492eab4107a773141bb419e107bda3de3d55652e6...       1  \n",
       "3  0324957a5ab4f045fc02a492eb7a3ff375a4bcec059a6a...       1  \n",
       "4  0282c03304843150091acd28fbbd2341d73571004ecd48...       1  "
      ]
     },
     "execution_count": 4,
     "metadata": {},
     "output_type": "execute_result"
    }
   ],
   "source": [
    "# Dummy weight is added to make the graph work with Word2Vec\n",
    "channels_df['weight'] = 1\n",
    "channels_df.head()"
   ]
  },
  {
   "cell_type": "code",
   "execution_count": 5,
   "metadata": {
    "colab": {
     "base_uri": "https://localhost:8080/",
     "height": 479
    },
    "colab_type": "code",
    "id": "-kp8HTVB-5-u",
    "outputId": "4058ef80-05fd-4795-f66c-5dfc13db3e60",
    "slideshow": {
     "slide_type": "subslide"
    }
   },
   "outputs": [
    {
     "data": {
      "text/html": [
       "<div>\n",
       "<style scoped>\n",
       "    .dataframe tbody tr th:only-of-type {\n",
       "        vertical-align: middle;\n",
       "    }\n",
       "\n",
       "    .dataframe tbody tr th {\n",
       "        vertical-align: top;\n",
       "    }\n",
       "\n",
       "    .dataframe thead th {\n",
       "        text-align: right;\n",
       "    }\n",
       "</style>\n",
       "<table border=\"1\" class=\"dataframe\">\n",
       "  <thead>\n",
       "    <tr style=\"text-align: right;\">\n",
       "      <th></th>\n",
       "      <th>id</th>\n",
       "      <th>ip</th>\n",
       "      <th>geo</th>\n",
       "      <th>alias</th>\n",
       "      <th>latency</th>\n",
       "    </tr>\n",
       "  </thead>\n",
       "  <tbody>\n",
       "    <tr>\n",
       "      <th>0</th>\n",
       "      <td>032b31feacb6d645c9a83a015d2b52d549205ef515ddea...</td>\n",
       "      <td>94.130.239.161:9735</td>\n",
       "      <td>{'latitude': 51.2993, 'longitude': 9.491}</td>\n",
       "      <td>CoinMall.com</td>\n",
       "      <td>0</td>\n",
       "    </tr>\n",
       "    <tr>\n",
       "      <th>1</th>\n",
       "      <td>02827a7ba367d10a29f0a178be878f737292889d1926b4...</td>\n",
       "      <td>18.223.138.245:9735</td>\n",
       "      <td>{'latitude': 39.9653, 'longitude': -83.0235}</td>\n",
       "      <td>SOVEREIGNHOMININ</td>\n",
       "      <td>0</td>\n",
       "    </tr>\n",
       "    <tr>\n",
       "      <th>2</th>\n",
       "      <td>02cfe9b37f3fb1012453f6de7e1c2a9aa6e06ff8c91230...</td>\n",
       "      <td>NaN</td>\n",
       "      <td>{'latitude': 0, 'longitude': 0}</td>\n",
       "      <td>vasek</td>\n",
       "      <td>0</td>\n",
       "    </tr>\n",
       "    <tr>\n",
       "      <th>3</th>\n",
       "      <td>025cde2c2b144d49cf960c9292d6b345624753e66f0b3b...</td>\n",
       "      <td>NaN</td>\n",
       "      <td>{'latitude': 0, 'longitude': 0}</td>\n",
       "      <td>BleeblerBlobbler</td>\n",
       "      <td>0</td>\n",
       "    </tr>\n",
       "    <tr>\n",
       "      <th>4</th>\n",
       "      <td>02ca359f3c471db5841d17dc112b10e1a04b8532aab95a...</td>\n",
       "      <td>NaN</td>\n",
       "      <td>{'latitude': 0, 'longitude': 0}</td>\n",
       "      <td>BER</td>\n",
       "      <td>0</td>\n",
       "    </tr>\n",
       "  </tbody>\n",
       "</table>\n",
       "</div>"
      ],
      "text/plain": [
       "                                                  id                   ip  \\\n",
       "0  032b31feacb6d645c9a83a015d2b52d549205ef515ddea...  94.130.239.161:9735   \n",
       "1  02827a7ba367d10a29f0a178be878f737292889d1926b4...  18.223.138.245:9735   \n",
       "2  02cfe9b37f3fb1012453f6de7e1c2a9aa6e06ff8c91230...                  NaN   \n",
       "3  025cde2c2b144d49cf960c9292d6b345624753e66f0b3b...                  NaN   \n",
       "4  02ca359f3c471db5841d17dc112b10e1a04b8532aab95a...                  NaN   \n",
       "\n",
       "                                            geo             alias  latency  \n",
       "0     {'latitude': 51.2993, 'longitude': 9.491}      CoinMall.com        0  \n",
       "1  {'latitude': 39.9653, 'longitude': -83.0235}  SOVEREIGNHOMININ        0  \n",
       "2               {'latitude': 0, 'longitude': 0}             vasek        0  \n",
       "3               {'latitude': 0, 'longitude': 0}  BleeblerBlobbler        0  \n",
       "4               {'latitude': 0, 'longitude': 0}               BER        0  "
      ]
     },
     "execution_count": 5,
     "metadata": {},
     "output_type": "execute_result"
    }
   ],
   "source": [
    "nodes_df.head()"
   ]
  },
  {
   "cell_type": "code",
   "execution_count": 6,
   "metadata": {
    "colab": {},
    "colab_type": "code",
    "id": "1h42pxK01Dzg",
    "slideshow": {
     "slide_type": "notes"
    }
   },
   "outputs": [],
   "source": [
    "# print(nodes_df.shape, channels_df.shape)\n",
    "# pprint(nodes_df.isnull().sum())\n",
    "# print('--------------')\n",
    "# pprint(channels_df.isnull().sum())\n",
    "# print('--------------')\n",
    "# nodes_df = nodes_df.fillna(-1)\n",
    "# print(nodes_df.isnull().sum())"
   ]
  },
  {
   "cell_type": "code",
   "execution_count": 7,
   "metadata": {
    "colab": {},
    "colab_type": "code",
    "id": "17AtZh-w4pac",
    "slideshow": {
     "slide_type": "notes"
    }
   },
   "outputs": [],
   "source": [
    "# This is how you do a multiDi graph but can't work with this and node2vec\n",
    "# since it stores weight for each edge from a node.\n",
    "# Hence using directed graph as constructed below.\n",
    "# G = nx.from_pandas_edgelist(channels_df,\n",
    "#                             source='source',\n",
    "#                             target='target',\n",
    "#                             edge_attr=True,\n",
    "#                             create_using=nx.MultiDiGraph())\n",
    "# G.nodes(), G.edges(), G.degree()"
   ]
  },
  {
   "cell_type": "markdown",
   "metadata": {
    "slideshow": {
     "slide_type": "slide"
    }
   },
   "source": [
    "## Creating the Graphs"
   ]
  },
  {
   "cell_type": "code",
   "execution_count": 8,
   "metadata": {
    "colab": {
     "base_uri": "https://localhost:8080/",
     "height": 88
    },
    "colab_type": "code",
    "id": "4C5QWjuHzylB",
    "outputId": "5e5cbd6a-eb51-4226-c160-3bf2b32abf6b",
    "slideshow": {
     "slide_type": "subslide"
    }
   },
   "outputs": [
    {
     "name": "stdout",
     "output_type": "stream",
     "text": [
      "Number of nodes/characters:  5026\n",
      "Number of edges/connections:  28150\n"
     ]
    }
   ],
   "source": [
    "#@slideshow slide\n",
    "# creating Networkx Graph from df\n",
    "from collections import Counter\n",
    "\n",
    "edge2weight = Counter()\n",
    "for _, r in channels_df.iterrows():\n",
    "    edge2weight[(r['source'], r['target'])] += 1\n",
    "\n",
    "edges_for_digraph = [\n",
    "    (e[0], e[1], {'weight': v})\n",
    "    for e, v in edge2weight.items()\n",
    "]\n",
    "\n",
    "G = nx.DiGraph()\n",
    "G.add_edges_from(edges_for_digraph)\n",
    "print(\"Number of nodes/characters: \", len(G.nodes()))\n",
    "print(\"Number of edges/connections: \", len(G.edges()))"
   ]
  },
  {
   "cell_type": "code",
   "execution_count": 9,
   "metadata": {
    "colab": {},
    "colab_type": "code",
    "id": "Kct7b20Q_qpc",
    "slideshow": {
     "slide_type": "notes"
    }
   },
   "outputs": [],
   "source": [
    "# pos = nx.layout.spring_layout(G)\n",
    "# colors = range(28150)\n",
    "# options = {\n",
    "#     \"node_color\": \"#A0CBE2\",\n",
    "#     \"edge_color\": colors,\n",
    "#     \"width\": 4,\n",
    "#     \"edge_cmap\": plt.cm.Blues,\n",
    "#     \"with_labels\": False,\n",
    "# }\n",
    "# nx.draw(G, pos, **options)\n",
    "# plt.show()"
   ]
  },
  {
   "cell_type": "code",
   "execution_count": 10,
   "metadata": {
    "colab": {
     "base_uri": "https://localhost:8080/",
     "height": 153
    },
    "colab_type": "code",
    "id": "6WRF18tBKPYQ",
    "outputId": "f4027924-ef03-43dc-8e85-59668a02fe1f",
    "slideshow": {
     "slide_type": "notes"
    }
   },
   "outputs": [
    {
     "name": "stdout",
     "output_type": "stream",
     "text": [
      "Nodes from nodes_df:     4864\n",
      "Nodes from G:            5026\n",
      "Nodes with Edges:        5026\n",
      "Edges from channels_df:  31603\n",
      "Edges from G:            28150\n",
      "-----\n",
      "Has Attracting Components:                False\n",
      "Strongly Connected:                       False\n",
      "Weakly Connected:                         False\n",
      "Semi Connected:                           False\n",
      "Number of Strongly Connected Components:  5026\n",
      "Number of Attracting Components or HUBS:  1355\n",
      "Number of Weakly Connected Components:    8\n",
      "Smallest Weakly Connected Component:      2\n"
     ]
    }
   ],
   "source": [
    "nodes_with_edges = [node for node, degree in dict(G.degree()).items() if degree > 0]\n",
    "\n",
    "print(\"Nodes from nodes_df:    \", len(nodes_df['id']))\n",
    "print(\"Nodes from G:           \", len(G.nodes()))\n",
    "print(\"Nodes with Edges:       \", len(nodes_with_edges))\n",
    "print(\"Edges from channels_df: \", len(channels_df))\n",
    "print(\"Edges from G:           \", G.number_of_edges())\n",
    "print(\"-----\")\n",
    "print(\"Has Attracting Components:               \", nx.is_attracting_component(G))\n",
    "print(\"Strongly Connected:                      \", nx.is_strongly_connected(G))\n",
    "print(\"Weakly Connected:                        \", nx.is_weakly_connected(G))\n",
    "print(\"Semi Connected:                          \", nx.is_semiconnected(G))\n",
    "print(\"Number of Strongly Connected Components: \", nx.number_strongly_connected_components(G))\n",
    "print(\"Number of Attracting Components or HUBS: \", nx.number_attracting_components(G))\n",
    "print(\"Number of Weakly Connected Components:   \", nx.number_weakly_connected_components(G))\n",
    "\n",
    "smallest_weakly_cc = min(nx.weakly_connected_components(G), key=len)\n",
    "print(\"Smallest Weakly Connected Component:     \", len(smallest_weakly_cc))"
   ]
  },
  {
   "cell_type": "code",
   "execution_count": 11,
   "metadata": {
    "colab": {
     "base_uri": "https://localhost:8080/",
     "height": 34
    },
    "colab_type": "code",
    "id": "G1KBlQZFowZZ",
    "outputId": "9fb2b7d2-5a07-4800-8b81-5d503f65e4f1",
    "slideshow": {
     "slide_type": "subslide"
    }
   },
   "outputs": [
    {
     "name": "stdout",
     "output_type": "stream",
     "text": [
      "Total walks: 50260\n"
     ]
    }
   ],
   "source": [
    "#@slideshow slide \n",
    "# creating a node2vec graph and creating walks\n",
    "node2vec_G = Node2VecGraph(G, p=1, q=1, is_directed=True)\n",
    "walks = node2vec_G.simulate_walks(num_walks=10, walk_length=10)\n",
    "print(\"Total walks:\", len(walks))"
   ]
  },
  {
   "cell_type": "code",
   "execution_count": 12,
   "metadata": {
    "colab": {
     "base_uri": "https://localhost:8080/",
     "height": 51
    },
    "colab_type": "code",
    "id": "SOmpxWw32IwW",
    "outputId": "7e42cb7c-4fd8-4af7-ed8f-111385e169d1",
    "slideshow": {
     "slide_type": "subslide"
    }
   },
   "outputs": [
    {
     "name": "stdout",
     "output_type": "stream",
     "text": [
      "Word2Vec vocab:  5026\n"
     ]
    },
    {
     "data": {
      "text/plain": [
       "(1373507, 1869550)"
      ]
     },
     "execution_count": 12,
     "metadata": {},
     "output_type": "execute_result"
    }
   ],
   "source": [
    "#@slideshow slide\n",
    "# creating a vocabulary(nodes) and treating each walk as a sentece with word2vec\n",
    "from gensim.models import Word2Vec\n",
    "\n",
    "model = Word2Vec(\n",
    "    sg=1,  # skip-gram\n",
    "    hs=0,  # negative sampling\n",
    "    size=200,\n",
    "    window=5,\n",
    "    alpha=0.01,\n",
    "    negative=20\n",
    ")\n",
    "model.build_vocab(walks)\n",
    "print(\"Word2Vec vocab: \", len(model.wv.vocab))\n",
    "model.train(walks, total_examples=len(walks), epochs=10)"
   ]
  },
  {
   "cell_type": "code",
   "execution_count": 13,
   "metadata": {
    "slideshow": {
     "slide_type": "notes"
    }
   },
   "outputs": [],
   "source": [
    "# pprint(model.wv.most_similar(\"027e62436314f4a18b5cf459d3735977d00830dd3ff24da7f14214824f89fe8d34\"))\n",
    "# set(G.neighbors(list(G)[42]))"
   ]
  },
  {
   "cell_type": "markdown",
   "metadata": {
    "slideshow": {
     "slide_type": "slide"
    }
   },
   "source": [
    "## The Algorithms"
   ]
  },
  {
   "cell_type": "code",
   "execution_count": 14,
   "metadata": {
    "colab": {},
    "colab_type": "code",
    "id": "ZB2uX_Vu1U3Y",
    "slideshow": {
     "slide_type": "subslide"
    }
   },
   "outputs": [],
   "source": [
    "#@slideshow slide\n",
    "# implementation of greedy shortest path\n",
    "def find_greedy_sh_path(G, s, t, model=None):\n",
    "  \"\"\"\n",
    "  G: Networkx graph\n",
    "  s, t: nodes\n",
    "  \n",
    "  return value: list of least # of connected nodes between s and t, inc. s and t (or -1, if no path found)\n",
    "  \"\"\"\n",
    "  def _dist(u, v):\n",
    "    return model.wv.similarity(u, v)\n",
    "  \n",
    "  visited = {s}\n",
    "  path = []\n",
    "  current = s\n",
    "  while current != t:\n",
    "    # choose the neighbor node to move to\n",
    "    neighbor_set = (set(G.neighbors(current)) - visited)  # neighbour set\n",
    "    \n",
    "    # all neighbors have been visited, the algorithm gets stuck\n",
    "    if not neighbor_set:\n",
    "      return -1\n",
    "\n",
    "    neighbor_set = list(neighbor_set)\n",
    "    # move to the neighbor closest to the t\n",
    "    distance_set = [_dist(t, node) for node in neighbor_set]  # distance set\n",
    "    closest = neighbor_set[np.argmax(distance_set)]\n",
    "    \n",
    "    visited.add(current)  # mark left node as visited\n",
    "    path.append(current)  # update path\n",
    "    current = closest     # move\n",
    "  path.append(t)\n",
    "  return path"
   ]
  },
  {
   "cell_type": "code",
   "execution_count": 15,
   "metadata": {
    "colab": {},
    "colab_type": "code",
    "id": "U-tWe8DvrJgO",
    "slideshow": {
     "slide_type": "subslide"
    }
   },
   "outputs": [],
   "source": [
    "#@slideshow slide\n",
    "# Networkx shortest path\n",
    "def nx_sh_path(G, s, t, model=None):\n",
    "  try:\n",
    "    return nx.shortest_path(G, s, t)\n",
    "  except nx.NetworkXNoPath:\n",
    "    return -1"
   ]
  },
  {
   "cell_type": "code",
   "execution_count": 16,
   "metadata": {
    "colab": {},
    "colab_type": "code",
    "id": "uhbVHyWPrL4h",
    "slideshow": {
     "slide_type": "subslide"
    }
   },
   "outputs": [],
   "source": [
    "#@slideshow slide\n",
    "# helper functions\n",
    "def get_1000_pairs(num_nodes: int) -> list:\n",
    "  \"\"\"\n",
    "  return value: list of 1000 random integer tuples\n",
    "  \"\"\"\n",
    "  import random\n",
    "  pairs = []\n",
    "  for _ in range(1000):\n",
    "    x, y = random.randrange(num_nodes), random.randrange(num_nodes)\n",
    "    pairs.append((x, y))\n",
    "  return pairs\n",
    "\n",
    "\n",
    "def build_paths(fn, G, nodes_list, node_pairs, model=None):\n",
    "  \"\"\"\n",
    "  fn: function to find path\n",
    "  G: networkx graph\n",
    "  nodes_list: list of nodes in G\n",
    "  node_pairs: list of index pairs for nodes_list\n",
    "\n",
    "  return value: dict of node pair tuple as key and list with path between them as value\n",
    "  \"\"\"\n",
    "  paths = dict()\n",
    "  for i in range(len(node_pairs)):\n",
    "    x, y = node_pairs[i][0], node_pairs[i][1]\n",
    "    s, t = nodes_list[x], nodes_list[y]\n",
    "    path = fn(G, s, t, model)\n",
    "    if path != -1:\n",
    "      paths[(x, y)] = path\n",
    "  return paths"
   ]
  },
  {
   "cell_type": "code",
   "execution_count": 17,
   "metadata": {
    "slideshow": {
     "slide_type": "subslide"
    }
   },
   "outputs": [],
   "source": [
    "# functions to investigate paths\n",
    "def find_common_keys(dictA, dictB):\n",
    "  \"\"\"\n",
    "  dictA, dictB: dictionaries with similar keys\n",
    "\n",
    "  return value: list of matching node_pair\n",
    "  \"\"\"\n",
    "  matches = []\n",
    "  for key in dictA.keys():\n",
    "    if key in dictB.keys():\n",
    "      matches.append(key)\n",
    "  return matches\n",
    "\n",
    "\n",
    "def find_path_diffs(greedy_paths, nx_paths, common_node_pairs):\n",
    "  \"\"\"\n",
    "  greedy_paths, nx_paths: dictionaries of paths\n",
    "  common_node_pairs: list of tuples of common node pairs in both dicts\n",
    "\n",
    "  return value: dict with node pair as key and tuple of 2 dicts containing path length from both dicts that differ for the same keys\n",
    "  \"\"\"\n",
    "  paths = dict()\n",
    "  for i in range(len(common_node_pairs)):\n",
    "    path_in_greedy = len(greedy_paths[common_node_pairs[i]])\n",
    "    path_in_nx = len(nx_paths[common_node_pairs[i]])\n",
    "    if path_in_greedy != path_in_nx:\n",
    "      paths[common_node_pairs[i]] = ({\"greedy_path\": path_in_greedy}, {\"nx_path\": path_in_nx})\n",
    "  return paths"
   ]
  },
  {
   "cell_type": "code",
   "execution_count": 18,
   "metadata": {
    "slideshow": {
     "slide_type": "subslide"
    }
   },
   "outputs": [],
   "source": [
    "# more funcitons to investigate paths\n",
    "def paths_with_neighbors(paths_dict):\n",
    "  \"\"\"\n",
    "  paths_dict: dict with shortest paths\n",
    "\n",
    "  return value: list of node pairs with path len 2 i.e. containing only s & t nodes\n",
    "  \"\"\"\n",
    "  neighbors = []\n",
    "  for k, v in paths_dict.items():\n",
    "    if len(v) == 2:\n",
    "      neighbors.append(k)\n",
    "  return neighbors\n",
    "  print(\"nx\")\n",
    "\n",
    "def has_shorter_path(paths_dictA, paths_dictB, node_pairs):\n",
    "  \"\"\"\n",
    "  paths_dictA, paths_dictB: dicts with shortest paths\n",
    "  node_pairs: tuple of pairs of nodes\n",
    "\n",
    "  return value: Bool, True if paths_dictA has any paths shorter than paths_dictB\n",
    "  \"\"\"\n",
    "  for i in range(len(paths_dictA)):\n",
    "    if node_pairs[i] in paths_dictA:\n",
    "      return True if len(paths_dictA[node_pairs[i]]) < len(paths_dictB[node_pairs[i]]) else False"
   ]
  },
  {
   "cell_type": "markdown",
   "metadata": {
    "slideshow": {
     "slide_type": "slide"
    }
   },
   "source": [
    "## Analysis of the Paths from Greedy vs Networkx"
   ]
  },
  {
   "cell_type": "code",
   "execution_count": 19,
   "metadata": {
    "colab": {
     "base_uri": "https://localhost:8080/",
     "height": 68
    },
    "colab_type": "code",
    "id": "KWVH14-quza5",
    "outputId": "53cac82f-4bd0-48ab-cdfa-33656c2bc693",
    "slideshow": {
     "slide_type": "subslide"
    },
    "tags": [
     "to_remove"
    ]
   },
   "outputs": [
    {
     "data": {
      "text/html": [
       "<div id=\"7ed523d211e83b1c\"></div>\n",
       "    <script type=\"text/javascript\">\n",
       "        $(function(){\n",
       "            var p = $(\"#7ed523d211e83b1c\");\n",
       "            if (p.length==0) return;\n",
       "            while (!p.hasClass(\"cell\")) {\n",
       "                p=p.parent();\n",
       "                if (p.prop(\"tagName\") ==\"body\") return;\n",
       "            }\n",
       "            var cell = p;\n",
       "            cell.find(\".input\").addClass(\"hide-in-slideshow\")\n",
       "        });\n",
       "    </script>"
      ]
     },
     "metadata": {},
     "output_type": "display_data"
    },
    {
     "name": "stdout",
     "output_type": "stream",
     "text": [
      "Number of paths found by greedy:  29\n",
      "Number of paths found by networkx:  161\n",
      "Number of common node pairs in both:  29\n",
      "---------------------------------------\n",
      "Number of paths with only neighbors:\n",
      "Greedy Algorithm:  0\n",
      "Networkx Algorithm:  0\n",
      "---------------------------------------\n",
      "Does greedy algorithm produce a shorter path than Networkx? None\n",
      "---------------------------------------\n",
      "There are 8 paths of different lengths, 3 of them are: \n",
      "\n",
      "Node Pairs:  (2035, 518) >>> Greedy Path:  6 | Nx Path:  3\n",
      "Node Pairs:  (154, 736) >>> Greedy Path:  4 | Nx Path:  3\n",
      "Node Pairs:  (833, 2745) >>> Greedy Path:  6 | Nx Path:  3\n"
     ]
    }
   ],
   "source": [
    "#@slideshow slide tags=remove_input\n",
    "hide_code_in_slideshow()\n",
    "nodes_list = list(G) # 5026\n",
    "node_pairs = get_1000_pairs(len(nodes_list))\n",
    "greedy_paths = build_paths(find_greedy_sh_path, G, nodes_list, node_pairs, model=model)\n",
    "nx_paths = build_paths(nx_sh_path, G, nodes_list, node_pairs, model=model)\n",
    "common_node_pairs = find_common_keys(greedy_paths, nx_paths)\n",
    "print(\"Number of paths found by greedy: \", len(greedy_paths))\n",
    "print(\"Number of paths found by networkx: \", len(nx_paths))\n",
    "print(\"Number of common node pairs in both: \", len(common_node_pairs))\n",
    "print(\"---------------------------------------\")\n",
    "diff_paths = find_path_diffs(greedy_paths, nx_paths, common_node_pairs)\n",
    "greedy_neighbor_paths = paths_with_neighbors(greedy_paths)\n",
    "nx_neighbor_paths = paths_with_neighbors(nx_paths)\n",
    "print(\"Number of paths with only neighbors:\")\n",
    "print(\"Greedy Algorithm: \", len(greedy_neighbor_paths))\n",
    "print(\"Networkx Algorithm: \", len(nx_neighbor_paths))\n",
    "print(\"---------------------------------------\")\n",
    "any_short_path_in_greedy = has_shorter_path(greedy_paths, nx_paths, node_pairs)\n",
    "print(f\"Does greedy algorithm produce a shorter path than Networkx? {any_short_path_in_greedy}\")\n",
    "print(\"---------------------------------------\")\n",
    "print(f\"There are {len(diff_paths)} paths of different lengths, 3 of them are: \\n\")\n",
    "for i in list(diff_paths)[:3]:\n",
    "  print(\"Node Pairs: \", i, \">>> Greedy Path: \", diff_paths[i][0]['greedy_path'], \"| Nx Path: \", diff_paths[i][1]['nx_path'])"
   ]
  },
  {
   "cell_type": "code",
   "execution_count": 21,
   "metadata": {
    "slideshow": {
     "slide_type": "subslide"
    },
    "tags": [
     "to_remove"
    ]
   },
   "outputs": [
    {
     "name": "stdout",
     "output_type": "stream",
     "text": [
      "['02bb24da3d0fb0793f4918c7599f973cc402f0912ec3fb530470f1fc08bdd6ecb5',\n",
      " '03271338633d2d37b285dae4df40b413d8c6c791fbee7797bc5dc70812196d7d5c',\n",
      " '033d8656219478701227199cbd6f670335c8d408a92ae88b962c49d4dc0e83e025',\n",
      " '035abecb83cb67f3f36b2eabb946ffb171a13a82877bd7d3b406588ef89f64e064']\n",
      "---------------------------------------------------------------------\n",
      "['02bb24da3d0fb0793f4918c7599f973cc402f0912ec3fb530470f1fc08bdd6ecb5',\n",
      " '032679fec1213e5b0a23e066c019d7b991b95c6e4d28806b9ebd1362f9e32775cf',\n",
      " '035abecb83cb67f3f36b2eabb946ffb171a13a82877bd7d3b406588ef89f64e064']\n"
     ]
    }
   ],
   "source": [
    "pprint(greedy_paths[(154, 736)])\n",
    "print(\"---------------------------------------------------------------------\")\n",
    "pprint(nx_paths[(154, 736)])"
   ]
  },
  {
   "cell_type": "markdown",
   "metadata": {
    "colab_type": "text",
    "id": "Udu7oDPp8j7l",
    "slideshow": {
     "slide_type": "slide"
    }
   },
   "source": [
    "## Using the same methodology to analyse GoT Character Graph"
   ]
  },
  {
   "cell_type": "code",
   "execution_count": 22,
   "metadata": {
    "colab": {
     "base_uri": "https://localhost:8080/",
     "height": 204
    },
    "colab_type": "code",
    "id": "Ven_U6EAe-CM",
    "outputId": "745726d5-f8c1-4aa2-a99c-99071f45739b",
    "slideshow": {
     "slide_type": "subslide"
    },
    "tags": [
     "to_remove"
    ]
   },
   "outputs": [
    {
     "data": {
      "text/html": [
       "<div id=\"ea1a4dd31c6ea350\"></div>\n",
       "    <script type=\"text/javascript\">\n",
       "        $(function(){\n",
       "            var p = $(\"#ea1a4dd31c6ea350\");\n",
       "            if (p.length==0) return;\n",
       "            while (!p.hasClass(\"cell\")) {\n",
       "                p=p.parent();\n",
       "                if (p.prop(\"tagName\") ==\"body\") return;\n",
       "            }\n",
       "            var cell = p;\n",
       "            cell.find(\".input\").addClass(\"hide-in-slideshow\")\n",
       "        });\n",
       "    </script>"
      ]
     },
     "metadata": {},
     "output_type": "display_data"
    },
    {
     "data": {
      "text/html": [
       "<div>\n",
       "<style scoped>\n",
       "    .dataframe tbody tr th:only-of-type {\n",
       "        vertical-align: middle;\n",
       "    }\n",
       "\n",
       "    .dataframe tbody tr th {\n",
       "        vertical-align: top;\n",
       "    }\n",
       "\n",
       "    .dataframe thead th {\n",
       "        text-align: right;\n",
       "    }\n",
       "</style>\n",
       "<table border=\"1\" class=\"dataframe\">\n",
       "  <thead>\n",
       "    <tr style=\"text-align: right;\">\n",
       "      <th></th>\n",
       "      <th>Source</th>\n",
       "      <th>Target</th>\n",
       "      <th>Type</th>\n",
       "      <th>weight</th>\n",
       "      <th>book</th>\n",
       "    </tr>\n",
       "  </thead>\n",
       "  <tbody>\n",
       "    <tr>\n",
       "      <th>0</th>\n",
       "      <td>Aegon-I-Targaryen</td>\n",
       "      <td>Daenerys-Targaryen</td>\n",
       "      <td>undirected</td>\n",
       "      <td>4</td>\n",
       "      <td>5</td>\n",
       "    </tr>\n",
       "    <tr>\n",
       "      <th>1</th>\n",
       "      <td>Aegon-Targaryen-(son-of-Rhaegar)</td>\n",
       "      <td>Daenerys-Targaryen</td>\n",
       "      <td>undirected</td>\n",
       "      <td>11</td>\n",
       "      <td>5</td>\n",
       "    </tr>\n",
       "    <tr>\n",
       "      <th>2</th>\n",
       "      <td>Aegon-Targaryen-(son-of-Rhaegar)</td>\n",
       "      <td>Elia-Martell</td>\n",
       "      <td>undirected</td>\n",
       "      <td>4</td>\n",
       "      <td>5</td>\n",
       "    </tr>\n",
       "    <tr>\n",
       "      <th>3</th>\n",
       "      <td>Aegon-Targaryen-(son-of-Rhaegar)</td>\n",
       "      <td>Franklyn-Flowers</td>\n",
       "      <td>undirected</td>\n",
       "      <td>3</td>\n",
       "      <td>5</td>\n",
       "    </tr>\n",
       "    <tr>\n",
       "      <th>4</th>\n",
       "      <td>Aegon-Targaryen-(son-of-Rhaegar)</td>\n",
       "      <td>Haldon</td>\n",
       "      <td>undirected</td>\n",
       "      <td>14</td>\n",
       "      <td>5</td>\n",
       "    </tr>\n",
       "  </tbody>\n",
       "</table>\n",
       "</div>"
      ],
      "text/plain": [
       "                             Source              Target        Type  weight  \\\n",
       "0                 Aegon-I-Targaryen  Daenerys-Targaryen  undirected       4   \n",
       "1  Aegon-Targaryen-(son-of-Rhaegar)  Daenerys-Targaryen  undirected      11   \n",
       "2  Aegon-Targaryen-(son-of-Rhaegar)        Elia-Martell  undirected       4   \n",
       "3  Aegon-Targaryen-(son-of-Rhaegar)    Franklyn-Flowers  undirected       3   \n",
       "4  Aegon-Targaryen-(son-of-Rhaegar)              Haldon  undirected      14   \n",
       "\n",
       "   book  \n",
       "0     5  \n",
       "1     5  \n",
       "2     5  \n",
       "3     5  \n",
       "4     5  "
      ]
     },
     "execution_count": 22,
     "metadata": {},
     "output_type": "execute_result"
    }
   ],
   "source": [
    "#@slideshow slide tags=remove_input\n",
    "# Training the algorithms on GoT data\n",
    "hide_code_in_slideshow()\n",
    "got_df = pd.read_csv(\"harbour-space-text-mining-course/datasets/got/asoiaf-book5-edges.csv\")\n",
    "got_df.head()"
   ]
  },
  {
   "cell_type": "code",
   "execution_count": 23,
   "metadata": {
    "colab": {
     "base_uri": "https://localhost:8080/",
     "height": 119
    },
    "colab_type": "code",
    "id": "P7B9uWwBfWil",
    "outputId": "9e325f2f-59aa-4b6c-83c0-4b12f17ec15f",
    "slideshow": {
     "slide_type": "slide"
    }
   },
   "outputs": [
    {
     "name": "stdout",
     "output_type": "stream",
     "text": [
      "Number of nodes/characters:  317\n",
      "Number of edges/connections:  760\n",
      "\n",
      "Total walks: 3170\n",
      "Word2Vec vocab:  317\n"
     ]
    },
    {
     "data": {
      "text/plain": [
       "(195352, 317000)"
      ]
     },
     "execution_count": 23,
     "metadata": {},
     "output_type": "execute_result"
    }
   ],
   "source": [
    "#@slideshow slide tags=remove_input\n",
    "# creating Networkx graph\n",
    "GG = nx.from_pandas_edgelist(got_df,\n",
    "                            source='Source',\n",
    "                            target='Target',\n",
    "                            edge_attr=True,\n",
    "                            create_using=nx.Graph())\n",
    "print(\"Number of nodes/characters: \", len(GG.nodes()))\n",
    "print(\"Number of edges/connections: \", len(GG.edges()))\n",
    "\n",
    "# creating a node2vec graph and creating walks\n",
    "node2vec_GG = Node2VecGraph(GG, p=1, q=1, is_directed=False)\n",
    "gg_walks = node2vec_GG.simulate_walks(num_walks=10, walk_length=10)\n",
    "print(\"\\nTotal walks:\", len(gg_walks))\n",
    "\n",
    "# creating a vocabulary(nodes) and treating each walk as a sentece with word2vec\n",
    "gg_model = Word2Vec(\n",
    "    sg=1,  # skip-gram\n",
    "    hs=0,  # negative sampling\n",
    "    size=200,\n",
    "    window=5,\n",
    "    alpha=0.01,\n",
    "    negative=20\n",
    ")\n",
    "gg_model.build_vocab(gg_walks)\n",
    "print(\"Word2Vec vocab: \", len(gg_model.wv.vocab))\n",
    "gg_model.train(gg_walks, total_examples=len(gg_walks), epochs=10)"
   ]
  },
  {
   "cell_type": "markdown",
   "metadata": {
    "slideshow": {
     "slide_type": "slide"
    }
   },
   "source": [
    "## Analysis of GoT graph paths Greedy vs Networkx"
   ]
  },
  {
   "cell_type": "code",
   "execution_count": 24,
   "metadata": {
    "colab": {
     "base_uri": "https://localhost:8080/",
     "height": 68
    },
    "colab_type": "code",
    "id": "VEbLPFtXgIBn",
    "outputId": "002ef797-2d7f-48a1-cafd-e70a29b2312d",
    "slideshow": {
     "slide_type": "subslide"
    },
    "tags": [
     "to_remove"
    ]
   },
   "outputs": [
    {
     "data": {
      "text/html": [
       "<div id=\"1474ba2aac3546d9\"></div>\n",
       "    <script type=\"text/javascript\">\n",
       "        $(function(){\n",
       "            var p = $(\"#1474ba2aac3546d9\");\n",
       "            if (p.length==0) return;\n",
       "            while (!p.hasClass(\"cell\")) {\n",
       "                p=p.parent();\n",
       "                if (p.prop(\"tagName\") ==\"body\") return;\n",
       "            }\n",
       "            var cell = p;\n",
       "            cell.find(\".input\").addClass(\"hide-in-slideshow\")\n",
       "        });\n",
       "    </script>"
      ]
     },
     "metadata": {},
     "output_type": "display_data"
    },
    {
     "name": "stdout",
     "output_type": "stream",
     "text": [
      "Number of paths found by greedy:  756\n",
      "Number of paths found by networkx:  996\n",
      "Number of common node pairs in both:  756\n",
      "---------------------------------------\n",
      "Number of paths with only neighbors:\n",
      "Greedy Algorithm:  14\n",
      "Networkx Algorithm:  14\n",
      "---------------------------------------\n",
      "Does greedy algorithm produce a shorter path than Networkx? False\n",
      "---------------------------------------\n",
      "There are 277 paths of different lengths, 3 of them are: \n",
      "\n",
      "Node Pairs:  (15, 311) >>> Greedy Path:  6 | Nx Path:  5\n",
      "Node Pairs:  (26, 54) >>> Greedy Path:  5 | Nx Path:  4\n",
      "Node Pairs:  (44, 258) >>> Greedy Path:  5 | Nx Path:  4\n"
     ]
    }
   ],
   "source": [
    "#@slideshow slide tags=remove_input\n",
    "hide_code_in_slideshow()\n",
    "gg_nodes_list = list(GG)\n",
    "gg_node_pairs = get_1000_pairs(len(gg_nodes_list))\n",
    "gg_greedy_paths = build_paths(find_greedy_sh_path, GG, gg_nodes_list, gg_node_pairs, model=gg_model)\n",
    "gg_nx_paths = build_paths(nx_sh_path, GG, gg_nodes_list, gg_node_pairs, model=gg_model)\n",
    "gg_common_node_pairs = find_common_keys(gg_greedy_paths, gg_nx_paths)\n",
    "print(\"Number of paths found by greedy: \", len(gg_greedy_paths))\n",
    "print(\"Number of paths found by networkx: \", len(gg_nx_paths))\n",
    "print(\"Number of common node pairs in both: \", len(gg_common_node_pairs))\n",
    "print(\"---------------------------------------\")\n",
    "gg_diff_paths = find_path_diffs(gg_greedy_paths, gg_nx_paths, gg_common_node_pairs)\n",
    "gg_greedy_neighbor_paths = paths_with_neighbors(gg_greedy_paths)\n",
    "gg_nx_neighbor_paths = paths_with_neighbors(gg_nx_paths)\n",
    "print(\"Number of paths with only neighbors:\")\n",
    "print(\"Greedy Algorithm: \", len(gg_greedy_neighbor_paths))\n",
    "print(\"Networkx Algorithm: \", len(gg_nx_neighbor_paths))\n",
    "print(\"---------------------------------------\")\n",
    "any_short_path_in_greedy = has_shorter_path(gg_greedy_paths, gg_nx_paths, gg_node_pairs)\n",
    "print(f\"Does greedy algorithm produce a shorter path than Networkx? {any_short_path_in_greedy}\")\n",
    "print(\"---------------------------------------\")\n",
    "print(f\"There are {len(gg_diff_paths)} paths of different lengths, 3 of them are: \\n\")\n",
    "for i in list(gg_diff_paths)[:3]:\n",
    "  print(\"Node Pairs: \", i, \">>> Greedy Path: \", gg_diff_paths[i][0]['greedy_path'], \"| Nx Path: \", gg_diff_paths[i][1]['nx_path'])"
   ]
  },
  {
   "cell_type": "code",
   "execution_count": 25,
   "metadata": {
    "slideshow": {
     "slide_type": "subslide"
    },
    "tags": [
     "to_remove"
    ]
   },
   "outputs": [
    {
     "name": "stdout",
     "output_type": "stream",
     "text": [
      "['Yandry',\n",
      " 'Jon-Connington',\n",
      " 'Robert-Baratheon',\n",
      " 'Eddard-Stark',\n",
      " 'Theon-Greyjoy',\n",
      " 'Walder-Frey-(son-of-Jammos)']\n",
      "-------------------------\n",
      "['Yandry',\n",
      " 'Tyrion-Lannister',\n",
      " 'Stannis-Baratheon',\n",
      " 'Theon-Greyjoy',\n",
      " 'Walder-Frey-(son-of-Jammos)']\n"
     ]
    }
   ],
   "source": [
    "pprint(gg_greedy_paths[(15, 311)])\n",
    "print(\"-------------------------\")\n",
    "pprint(gg_nx_paths[(15, 311)])"
   ]
  },
  {
   "cell_type": "markdown",
   "metadata": {
    "slideshow": {
     "slide_type": "slide"
    }
   },
   "source": [
    "# Conclusion"
   ]
  },
  {
   "cell_type": "markdown",
   "metadata": {
    "slideshow": {
     "slide_type": "subslide"
    }
   },
   "source": [
    "- Though I was able to find shortest paths with a greedy algorithm, it is far from optimised. It not only cannot find all the paths, but some of them can be shorter as found by Networkx.\n",
    "\n",
    "- This was a much simplified problem as there are quite a few considerations in finding an optimal path, some of the variables are Cost, Channel Balances, Hops, Latency.\n",
    "\n",
    "### Main Challenges\n",
    "\n",
    "- Understanding how the libraries worked, Networkx & Node2Vec especially since there's virtually no documentation apart from the whitepaper.\n",
    "- Understanding and visualizing how the data changes when converting the data from one form to the other.\n",
    "\n",
    "### Learnings\n",
    "\n",
    "- Even with such cursory analysis I was able to identify loosely connected components in the graph. This is very interesting since, loosely connected components offer a commercial opportunity.\n",
    "\n",
    "### Next Steps\n",
    "\n",
    "- Improve Distance measure.\n",
    "- Perform Clustering, Density analysis and Connectivity Analysis."
   ]
  }
 ],
 "metadata": {
  "celltoolbar": "Edit Metadata",
  "colab": {
   "collapsed_sections": [],
   "name": "ln_graph.ipynb",
   "provenance": []
  },
  "kernelspec": {
   "display_name": "Python 3",
   "language": "python",
   "name": "python3"
  },
  "language_info": {
   "codemirror_mode": {
    "name": "ipython",
    "version": 3
   },
   "file_extension": ".py",
   "mimetype": "text/x-python",
   "name": "python",
   "nbconvert_exporter": "python",
   "pygments_lexer": "ipython3",
   "version": "3.6.9"
  },
  "rise": {
   "autolaunch": true,
   "enable_chalkboard": true
  }
 },
 "nbformat": 4,
 "nbformat_minor": 1
}
